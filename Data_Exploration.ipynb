{
 "cells": [
  {
   "cell_type": "code",
   "execution_count": null,
   "metadata": {},
   "outputs": [],
   "source": [
    "import pandas as pd\n",
    "import numpy as np\n",
    "import seaborn as sns\n",
    "import matplotlib.pyplot as plt\n",
    "%matplotlib inline"
   ]
  },
  {
   "cell_type": "code",
   "execution_count": null,
   "metadata": {},
   "outputs": [],
   "source": [
    "ratings = pd.read_csv('ratings.csv')\n",
    "finalbooks = pd.read_csv('finalbooks.csv')"
   ]
  },
  {
   "cell_type": "code",
   "execution_count": null,
   "metadata": {},
   "outputs": [],
   "source": [
    "ratings['book_id'].value_counts().head(100)\n",
    "out = ratings.groupby(by='book_id', as_index=False).agg({'rating':pd.Series.count})\n",
    "outid = out.loc[out.rating>=7500]['book_id'].tolist()\n",
    "testbooks = finalbooks[~finalbooks['book_id'].isin(outid)]\n",
    "testratings = ratings[~ratings['book_id'].isin(outid)]"
   ]
  },
  {
   "cell_type": "code",
   "execution_count": null,
   "metadata": {},
   "outputs": [],
   "source": [
    "finalbooks['genres'] = finalbooks['genres'].fillna('Unknown')\n",
    "finalbooks['tag_cloud'] = ['-'.join(x.split('|')) for x in finalbooks['genres']]"
   ]
  },
  {
   "cell_type": "code",
   "execution_count": null,
   "metadata": {},
   "outputs": [],
   "source": [
    "useronly = ratings.groupby(by='user_id', as_index = False).agg({'rating':pd.Series.count}).sort_values('rating', ascending=False).head(15000)"
   ]
  },
  {
   "cell_type": "code",
   "execution_count": null,
   "metadata": {},
   "outputs": [],
   "source": [
    "finalratings = ratings[ratings.user_id.isin(useronly.user_id)]\n",
    "bookonly = finalratings.groupby(by = 'book_id', as_index = False).agg({'rating' : pd.Series.count}).sort_values('rating', ascending=False).head(8000)\n",
    "finalratings = finalratings[ratings.book_id.isin(bookonly.book_id)]"
   ]
  },
  {
   "cell_type": "code",
   "execution_count": null,
   "metadata": {},
   "outputs": [],
   "source": [
    "finalbooks = finalbooks[finalbooks.book_id.isin(bookonly.book_id)]\n",
    "finalbooks = finalbooks.reset_index(drop=True)\n",
    "finalbooks['newbookid'] = finalbooks.index+1\n",
    "finalbooks"
   ]
  },
  {
   "cell_type": "code",
   "execution_count": null,
   "metadata": {},
   "outputs": [],
   "source": [
    "finalratings = finalratings.merge(finalbooks[['book_id', 'newbookid']], how='left', on=['book_id'])\n",
    "finalratings.dropna(subset = [\"newbookid\"], inplace=True)\n",
    "finalratings['newbookid'] = [int(x) for x in finalratings['newbookid']]\n",
    "finalratings"
   ]
  },
  {
   "cell_type": "code",
   "execution_count": null,
   "metadata": {},
   "outputs": [],
   "source": [
    "finalratings['newuser_id'] = finalratings.groupby('user_id').grouper.group_info[0]+1\n",
    "finalratings"
   ]
  },
  {
   "cell_type": "code",
   "execution_count": null,
   "metadata": {},
   "outputs": [],
   "source": [
    "finalratings = finalratings.drop(['user_id', 'book_id'], axis=1)\n",
    "finalbooks = finalbooks.drop(['book_id', 'goodreads_book_id'], axis=1)"
   ]
  },
  {
   "cell_type": "code",
   "execution_count": null,
   "metadata": {},
   "outputs": [],
   "source": [
    "finalratings['good'] = [1 if x>=4 else 0 for x in finalratings['rating']]"
   ]
  },
  {
   "cell_type": "code",
   "execution_count": null,
   "metadata": {},
   "outputs": [],
   "source": [
    "finalratings"
   ]
  },
  {
   "cell_type": "code",
   "execution_count": null,
   "metadata": {},
   "outputs": [],
   "source": [
    "# Average ratings for the books in the data base\n",
    "agg=finalratings.groupby(by='newbookid', as_index=False).agg({'rating': pd.Series.mean})\n",
    "n, bins, patches = plt.hist(agg['rating'], 20, facecolor = 'blue', alpha=0.5)\n",
    "plt.title('Distribution of Average Ratings per Book in Dataset')\n",
    "plt.show()"
   ]
  },
  {
   "cell_type": "code",
   "execution_count": null,
   "metadata": {},
   "outputs": [],
   "source": [
    "# Distribution of the individual ratings given by our User base\n",
    "n, bins, patches = plt.hist(finalratings['rating'], 5, facecolor='blue', alpha=0.5)\n",
    "plt.title('Distribution of Ratings from 1 to 5 by users')\n",
    "plt.show()"
   ]
  },
  {
   "cell_type": "code",
   "execution_count": null,
   "metadata": {},
   "outputs": [],
   "source": [
    "# Distribution of the individual ratings given by our user base\n",
    "distr = finalratings.groupby(by='rating', as_index=False).agg({'newuser_id':pd.Series.count})\n",
    "sns.barplot(x='rating', y='newuser_id', data=distr)\n",
    "plt.title(\"Distribution of Good ratings from 1 to 5 by users\")\n",
    "plt.show()"
   ]
  },
  {
   "cell_type": "code",
   "execution_count": null,
   "metadata": {},
   "outputs": [],
   "source": [
    "# Distribution of the no. of users per rating\n",
    "finalratings['rating'].value_counts()"
   ]
  },
  {
   "cell_type": "code",
   "execution_count": null,
   "metadata": {},
   "outputs": [],
   "source": [
    "# Distribution of the no. of reviews per user\n",
    "n, bins, patches = plt.hist(finalratings['newuser_id'].value_counts(), 15, facecolor='blue', alpha=0.5)\n",
    "plt.title('Distribution of no. of reviews per user')\n",
    "plt.show()"
   ]
  },
  {
   "cell_type": "code",
   "execution_count": null,
   "metadata": {},
   "outputs": [],
   "source": [
    "# Distribution of the no.of revviews per book\n",
    "facet, axes = plt.subplots(1, 1, figsize=(20,10))\n",
    "n, bins, patches = plt.hist(testratings['book_id'].value_counts(), 1000, facecolor='blue', alpha=0.5)\n",
    "plt.title('Distribution of no. of reviews per user')\n",
    "plt.show()"
   ]
  },
  {
   "cell_type": "code",
   "execution_count": null,
   "metadata": {},
   "outputs": [],
   "source": [
    "finalbooks.info()"
   ]
  },
  {
   "cell_type": "code",
   "execution_count": null,
   "metadata": {},
   "outputs": [],
   "source": [
    "finalbooks['firstgenre'] = [x.split('|')[0] for x in finalbooks['genres']]\n",
    "finalbooks['mosttagged'] = [x.lower() for x in finalbooks['firstgenre']]\n",
    "finalbooks['tag_cloud'] = [x.lower() for x in finalbooks['genres']]\n",
    "finalbooks['tag_cloud'] = ['-'.join(x.split('|')) for x in finalbooks['tag_cloud']]"
   ]
  },
  {
   "cell_type": "code",
   "execution_count": null,
   "metadata": {},
   "outputs": [],
   "source": [
    "testbooks['genres'] = testbooks['genres'].fillna('Unknown')\n",
    "testbooks['firstgenre'] = [x.split('|')[0] for x in testbooks['genres']]\n",
    "testbooks['mosttagged'] = [x.lower() for x in testbooks['firstgenre']]\n",
    "testbooks['tag_cloud'] = [x.lower() for x in testbooks['genres']]\n",
    "testbooks['tag_cloud'] = ['-'.join(x.split('|')) for x in testbooks['tag_cloud']]"
   ]
  },
  {
   "cell_type": "code",
   "execution_count": null,
   "metadata": {},
   "outputs": [],
   "source": [
    "# Distribution of the no. of ratings per book\n",
    "facets, axes = plt.subplots(2,1,figsize=(40,20))\n",
    "sns.despine(left=True)\n",
    "sns.barplot(x='firstgenre', y='average_rating', data=testbooks, ax=axes[0])\n",
    "plt.xticks(rotation=90)\n",
    "sns.barplot(x='firstgenre', y='ratings_count', data=testbooks, ax=axes[1])\n",
    "plt.xticks(rotation=90)\n",
    "plt.show()"
   ]
  },
  {
   "cell_type": "code",
   "execution_count": null,
   "metadata": {},
   "outputs": [],
   "source": [
    "finalbooks['title'] = finalbooks['title'].str.replace(r\"\\(.*\\)\",\"\")\n",
    "finalbooks['original_title'] = finalbooks['original_title'].str.replace(r\"\\(.*\\)\",\"\")"
   ]
  },
  {
   "cell_type": "code",
   "execution_count": null,
   "metadata": {},
   "outputs": [],
   "source": [
    "finalbooks['book_pages'] = finalbooks['book_pages'].fillna('0')\n"
   ]
  },
  {
   "cell_type": "code",
   "execution_count": null,
   "metadata": {},
   "outputs": [],
   "source": [
    "finalbooks.info()"
   ]
  },
  {
   "cell_type": "code",
   "execution_count": null,
   "metadata": {},
   "outputs": [],
   "source": [
    "finalbooks.head(20)"
   ]
  },
  {
   "cell_type": "code",
   "execution_count": null,
   "metadata": {},
   "outputs": [],
   "source": [
    "finalbooks.to_csv('finalbook.csv', index= False)"
   ]
  },
  {
   "cell_type": "code",
   "execution_count": null,
   "metadata": {},
   "outputs": [],
   "source": [
    "finalratings.to_csv('finalratings.csv', index=False)"
   ]
  },
  {
   "cell_type": "code",
   "execution_count": null,
   "metadata": {},
   "outputs": [],
   "source": []
  }
 ],
 "metadata": {
  "kernelspec": {
   "display_name": "Python 3",
   "language": "python",
   "name": "python3"
  },
  "language_info": {
   "codemirror_mode": {
    "name": "ipython",
    "version": 3
   },
   "file_extension": ".py",
   "mimetype": "text/x-python",
   "name": "python",
   "nbconvert_exporter": "python",
   "pygments_lexer": "ipython3",
   "version": "3.8.5"
  }
 },
 "nbformat": 4,
 "nbformat_minor": 4
}
