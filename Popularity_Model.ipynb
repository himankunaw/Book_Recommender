{
 "cells": [
  {
   "cell_type": "code",
   "execution_count": null,
   "metadata": {},
   "outputs": [],
   "source": [
    "import numpy as np\n",
    "import pandas as pd\n",
    "import seaborn as sns\n",
    "import matplotlib.pyplot as plt\n",
    "import scipy\n",
    "import math\n",
    "import random\n",
    "import nltk\n",
    "import sklearn\n",
    "from sklearn.model_selection import train_test_split\n",
    "from nltk.corpus import stopwords"
   ]
  },
  {
   "cell_type": "code",
   "execution_count": null,
   "metadata": {},
   "outputs": [],
   "source": [
    "finalbooks = pd.read_csv('finalbook.csv')\n",
    "ratings = pd.read_csv('finalratings.csv')"
   ]
  },
  {
   "cell_type": "code",
   "execution_count": null,
   "metadata": {},
   "outputs": [],
   "source": [
    "train, test = train_test_split(ratings, stratify=ratings['newuser_id'], test_size=0.20, random_state=42)"
   ]
  },
  {
   "cell_type": "code",
   "execution_count": null,
   "metadata": {},
   "outputs": [],
   "source": [
    "def dcg_k(r,k):\n",
    "    '''Discounted Cumulative Gain(DCG)\n",
    "    r: True Ratings in Predicted Rank Order(1st element is top recommendation)\n",
    "    k: Number of results to consider \n",
    "    '''\n",
    "    \n",
    "    r = np.asfarray(r)[:k]\n",
    "    dcg = np.sum(2**r / np.log2(np.arange(2, r.size + 2)))\n",
    "    return dcg\n",
    "\n",
    "def ndcg_k(r,k):\n",
    "    \"Normalized Discounted Cumulative Gain(NDCG)\"\n",
    "    \n",
    "    dcg_max = dcg_k(sorted(r, reverse=True), k)\n",
    "    if not dcg_max:\n",
    "        return 0\n",
    "    return dcg_k(r,k) / dcg_max\n",
    "\n",
    "def mean_ndcg(rs):\n",
    "    '''Mean NDCG for all users\n",
    "    rs: Iterator/For each user: True ratings in Predicted Rank orde\n",
    "    '''\n",
    "    \n",
    "    mean = np.mean([ndcg_k(r, len(r)) for r in rs])\n",
    "    return mean"
   ]
  },
  {
   "cell_type": "code",
   "execution_count": null,
   "metadata": {},
   "outputs": [],
   "source": [
    "def precision_k(r, k):\n",
    "    '''Score is precision at k\n",
    "    r: Binary Y/N in predicted Rank order(1st element is top recommendation)\n",
    "    '''\n",
    "    \n",
    "    assert k>=1\n",
    "    r=np.asarray(r)[:k] != 0\n",
    "    if r.size != k:\n",
    "        raise ValueError('Relevance score length < k')\n",
    "    return np.mean(r)\n",
    "\n",
    "def average_precision(r):\n",
    "    \n",
    "    r=np.asarray(r) != 0\n",
    "    out = [precision_k(r, k+1) for k in range(r, size) if r[k]]\n",
    "    if not out:\n",
    "        return 0\n",
    "    return np.mean(out)\n",
    "\n",
    "def mean_average_precision(rs):\n",
    "    \n",
    "    return np.mean([average_precision(r) for r in rs])"
   ]
  },
  {
   "cell_type": "code",
   "execution_count": null,
   "metadata": {},
   "outputs": [],
   "source": [
    "def rmse(y,h):\n",
    "    '''Root Mean Squared Error(RMSE)\n",
    "    y: real y\n",
    "    h: predicted y\n",
    "    '''\n",
    "    \n",
    "    a=y-h\n",
    "    return np.sqrt(sum(a**2)/len(a))"
   ]
  },
  {
   "cell_type": "code",
   "execution_count": null,
   "metadata": {},
   "outputs": [],
   "source": [
    "# Distribution of the no. of ratings per book\n",
    "facet, axes = plt.subplots(1,1,figsize=(20,6))\n",
    "n, bins, patches = plt.hist(ratings['newbookid'].value_counts(), 200, facecolor='blue', alpha=0.5)\n",
    "plt.title('Distribution of no. of reviews per book')\n",
    "plt.show()"
   ]
  },
  {
   "cell_type": "code",
   "execution_count": null,
   "metadata": {},
   "outputs": [],
   "source": [
    "# Defining the tail\n",
    "tailcomp = ratings.groupby(by='newbookid', as_index=False).agg({'rating': pd.Series.count}).sort_values(by='rating', ascending=False)\n",
    "tot=sum(tailcomp['rating'])\n",
    "tailcomp['popshare'] = [x/tot for x in tailcomp['rating']]\n",
    "tailcomp['popshare'] = tailcomp['popshare'].cumsum()\n",
    "tailcomp['category'] = ['Head' if x<0.95 else \"Tail\" for x in tailcomp['popshare']]\n",
    "tail = tailcomp.loc[tailcomp.popshare>=0.95]\n",
    "tail"
   ]
  },
  {
   "cell_type": "markdown",
   "metadata": {},
   "source": [
    "## Baseline Model: Popularity Model"
   ]
  },
  {
   "cell_type": "code",
   "execution_count": null,
   "metadata": {},
   "outputs": [],
   "source": [
    "popular = finalbooks.groupby('newbookid')['ratings_count', 'average_rating'].sum().sort_values(by = 'ratings_count', ascending=False).reset_index()\n",
    "popular.head(10)"
   ]
  },
  {
   "cell_type": "code",
   "execution_count": null,
   "metadata": {},
   "outputs": [],
   "source": [
    "poprank = test.merge(popular, on='newbookid')\n",
    "poprank['pred'] = np.round(poprank['average_rating'])\n",
    "poprank['ratingYN'] = [1 if x>=4 else 0 for x in poprank['rating']]\n",
    "\n",
    "poprank = poprank.sort_values(by=['newuser_id', 'ratings_count'], ascending=False)\n",
    "poprank.head(10)"
   ]
  },
  {
   "cell_type": "code",
   "execution_count": null,
   "metadata": {},
   "outputs": [],
   "source": [
    "poplista = []\n",
    "\n",
    "for i in range(15000):\n",
    "    a=poprank.loc[poprank.newuser_id == i+1]['rating'].tolist()\n",
    "    poplista.append(a)\n",
    "    if (i+1)%1000 == 0:\n",
    "        print(\"Done: \", i+1)"
   ]
  },
  {
   "cell_type": "code",
   "execution_count": null,
   "metadata": {},
   "outputs": [],
   "source": [
    "top = poprank.sort_values('ratings_count', ascending=False).groupby('newuser_id')\n",
    "top"
   ]
  },
  {
   "cell_type": "code",
   "execution_count": null,
   "metadata": {},
   "outputs": [],
   "source": [
    "b = np.array([ndcg_k(r, len(r)) for r in poplista])\n",
    "\n",
    "facet, axes = plt.subplots(1,1,figsize=(20,6))\n",
    "n, bins, patches = plt.hist(b, 200, facecolor='blue', alpha=0.5)\n",
    "plt.title('Distribution of NDCG among users for the popularity model')\n",
    "plt.show()"
   ]
  },
  {
   "cell_type": "code",
   "execution_count": null,
   "metadata": {},
   "outputs": [],
   "source": [
    "d=b[b==1]\n",
    "sum(d)/15000"
   ]
  },
  {
   "cell_type": "code",
   "execution_count": null,
   "metadata": {},
   "outputs": [],
   "source": [
    "print('(1) Popularity Model RMSE: ', np.round(rmse(poprank['rating'],poprank['average_rating']), decimals=3))\n",
    "print('(2) Popularity Model NDCG: ', np.round(mean_ndcg(poplista), decimals=3))\n",
    "print(\"(3) Median NDCG: \", np.round(np.median(b), decimals=3))\n",
    "print(\"(4) Share of NDCG =1 among Users: \", np.round(sum(d)/15000, decimals=3))"
   ]
  },
  {
   "cell_type": "code",
   "execution_count": null,
   "metadata": {},
   "outputs": [],
   "source": [
    "popranktrain = test.merge(popular,on = 'newbookid')\n",
    "popranktrain['pred']= np.round(poprank['average_rating'])"
   ]
  },
  {
   "cell_type": "code",
   "execution_count": null,
   "metadata": {},
   "outputs": [],
   "source": [
    "poplisttrain = []\n",
    "for i in range(15000):\n",
    "    a = popranktrain.loc[popranktrain.newuser_id == i+1]['rating'].tolist()\n",
    "    poplisttrain.append(a)\n",
    "    if (i+1)%1000 == 0: print(\"done: \", i+1)"
   ]
  },
  {
   "cell_type": "code",
   "execution_count": null,
   "metadata": {},
   "outputs": [],
   "source": [
    "print('(1) Pop Train Model RMSE: ', np.round(rmse(popranktrain['pred'],popranktrain['rating']), decimals=3))\n",
    "print('(2) Pop Train Model NDCG: ', np.round(mean_ndcg(poplisttrain), decimals=3))"
   ]
  },
  {
   "cell_type": "code",
   "execution_count": null,
   "metadata": {},
   "outputs": [],
   "source": [
    "train"
   ]
  },
  {
   "cell_type": "code",
   "execution_count": null,
   "metadata": {},
   "outputs": [],
   "source": [
    "test"
   ]
  },
  {
   "cell_type": "code",
   "execution_count": null,
   "metadata": {},
   "outputs": [],
   "source": [
    "train.to_csv('train.csv', index=False)\n",
    "test.to_csv('test.csv', index=False)"
   ]
  },
  {
   "cell_type": "code",
   "execution_count": null,
   "metadata": {},
   "outputs": [],
   "source": []
  },
  {
   "cell_type": "code",
   "execution_count": null,
   "metadata": {},
   "outputs": [],
   "source": []
  }
 ],
 "metadata": {
  "kernelspec": {
   "display_name": "Python 3",
   "language": "python",
   "name": "python3"
  },
  "language_info": {
   "codemirror_mode": {
    "name": "ipython",
    "version": 3
   },
   "file_extension": ".py",
   "mimetype": "text/x-python",
   "name": "python",
   "nbconvert_exporter": "python",
   "pygments_lexer": "ipython3",
   "version": "3.8.5"
  }
 },
 "nbformat": 4,
 "nbformat_minor": 4
}
